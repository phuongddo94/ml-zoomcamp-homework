{
 "cells": [
  {
   "cell_type": "markdown",
   "id": "efe7b74b-932d-49d7-8c70-aa1c3c38b1b7",
   "metadata": {},
   "source": [
    "# Notebook for Regression Lesson - Car Price Prediction"
   ]
  },
  {
   "cell_type": "code",
   "execution_count": 1,
   "id": "b8bfccad-20f1-4540-b6d0-f263bf578a11",
   "metadata": {},
   "outputs": [],
   "source": [
    "import pandas as pd\n",
    "import numpy as np"
   ]
  },
  {
   "cell_type": "code",
   "execution_count": 2,
   "id": "286d206d-386f-4b71-96e1-34ceed8eb03d",
   "metadata": {},
   "outputs": [],
   "source": [
    "import matplotlib.pyplot as plt\n",
    "import seaborn as sns\n",
    "\n",
    "%matplotlib inline"
   ]
  },
  {
   "cell_type": "markdown",
   "id": "1aa16644-3b73-42f6-9283-377cfa62cb4a",
   "metadata": {},
   "source": [
    "# Summary\n",
    "\n",
    "1. The first step is preparing the data by changing columns name to unified format, checking columns type and convert if necessary.\n",
    "2. Exploratory Data Analysis to understand the data distribution. We use histograms to understand the distribution of numerical features. We observed a right-skewed distribution for car price (target variable) which could affect the model performance. We tried to normalize the distributioni by using the np.log1p to convert the price to lograithmic format.\n",
    "3. We also investigate missing value and handle them by filling them with 0 (ignoring the missing feature) or filling them with either statistics such as mean/median/mode.\n",
    "4. Next step is to set up validation framework. Data is split into train, validation, test portion (60 - 20 - 20).\n",
    "5. The train data set is now used to train the linear regression. It is a model that approximates the target car price (y) using features of the cars (X). The goal is to find the coefficients or weights of vector w such that Xw = y. To do so, we need to use the Gram Matrix inverse. w will be approximately by (XTX)^-1 * XT * y.\n",
    "6. After training and obtain the vector w, we calcualte the model using RMSE. This will provide a baseline score for the model.\n",
    "7. From this step, various techniques are used to further fine tune the model to perform better. Feature engineering is used to add new feature to matrix X derived from information from original data frame. Categorial variables can be One-Hote encoded and used as features.\n",
    "8. Increasing number of values will evetuanlly affect the model performance, hence regularization is required. Regularization add a small vaalue to the diagonal of the XTX matri, which help stabilize the inverse. We use loop to fine the best regularization value for the model (best RMSE score).\n",
    "9. Finally, we combined train and validation data to one dataset and train the final model.\n",
    "10. Make prediction on test data set using the final model."
   ]
  },
  {
   "cell_type": "markdown",
   "id": "64c92dac-be77-4767-9ffc-6332e9220ecf",
   "metadata": {},
   "source": [
    "## 2.1 Data Preparation\n",
    "\n",
    "Before using any data to start a machine learning model, we need to clean the data and perform an EDA to understand the characteristics of the dataset."
   ]
  },
  {
   "cell_type": "code",
   "execution_count": 3,
   "id": "2250fa55-4e54-42ff-82d7-3a03742676cd",
   "metadata": {},
   "outputs": [],
   "source": [
    "df = pd.read_csv('https://raw.githubusercontent.com/alexeygrigorev/mlbookcamp-code/master/chapter-02-car-price/data.csv')"
   ]
  },
  {
   "cell_type": "code",
   "execution_count": 4,
   "id": "bc1145bb-d18b-445f-aa79-b76ac089339f",
   "metadata": {},
   "outputs": [
    {
     "data": {
      "text/plain": [
       "(11914, 16)"
      ]
     },
     "execution_count": 4,
     "metadata": {},
     "output_type": "execute_result"
    }
   ],
   "source": [
    "df.shape"
   ]
  },
  {
   "cell_type": "code",
   "execution_count": 5,
   "id": "cc761b2d-aaf3-46f3-915f-a2e55f2e8fc4",
   "metadata": {},
   "outputs": [],
   "source": [
    "# Change the columns name to lower and replace space with underscore\n",
    "df.columns = df.columns.str.lower().str.replace(' ', '_')"
   ]
  },
  {
   "cell_type": "code",
   "execution_count": 6,
   "id": "45c1e97b-d14b-4ec6-9217-b913c4c75d8f",
   "metadata": {},
   "outputs": [],
   "source": [
    "# Now for each text column, apply the same logic, lower text and replace space with underscore\n",
    "\n",
    "text_col = list(df.dtypes[df.dtypes == 'object'].index)"
   ]
  },
  {
   "cell_type": "code",
   "execution_count": 7,
   "id": "29c52463-962f-4e4e-82c0-f67889c0eccc",
   "metadata": {},
   "outputs": [],
   "source": [
    "for col in text_col:\n",
    "    df[col] = df[col].str.lower().str.replace(' ', '_')"
   ]
  },
  {
   "cell_type": "code",
   "execution_count": 8,
   "id": "50bde604-e1f7-43d9-9e47-064d34325f35",
   "metadata": {},
   "outputs": [
    {
     "data": {
      "text/html": [
       "<div>\n",
       "<style scoped>\n",
       "    .dataframe tbody tr th:only-of-type {\n",
       "        vertical-align: middle;\n",
       "    }\n",
       "\n",
       "    .dataframe tbody tr th {\n",
       "        vertical-align: top;\n",
       "    }\n",
       "\n",
       "    .dataframe thead th {\n",
       "        text-align: right;\n",
       "    }\n",
       "</style>\n",
       "<table border=\"1\" class=\"dataframe\">\n",
       "  <thead>\n",
       "    <tr style=\"text-align: right;\">\n",
       "      <th></th>\n",
       "      <th>make</th>\n",
       "      <th>model</th>\n",
       "      <th>year</th>\n",
       "      <th>engine_fuel_type</th>\n",
       "      <th>engine_hp</th>\n",
       "      <th>engine_cylinders</th>\n",
       "      <th>transmission_type</th>\n",
       "      <th>driven_wheels</th>\n",
       "      <th>number_of_doors</th>\n",
       "      <th>market_category</th>\n",
       "      <th>vehicle_size</th>\n",
       "      <th>vehicle_style</th>\n",
       "      <th>highway_mpg</th>\n",
       "      <th>city_mpg</th>\n",
       "      <th>popularity</th>\n",
       "      <th>msrp</th>\n",
       "    </tr>\n",
       "  </thead>\n",
       "  <tbody>\n",
       "    <tr>\n",
       "      <th>0</th>\n",
       "      <td>bmw</td>\n",
       "      <td>1_series_m</td>\n",
       "      <td>2011</td>\n",
       "      <td>premium_unleaded_(required)</td>\n",
       "      <td>335.0</td>\n",
       "      <td>6.0</td>\n",
       "      <td>manual</td>\n",
       "      <td>rear_wheel_drive</td>\n",
       "      <td>2.0</td>\n",
       "      <td>factory_tuner,luxury,high-performance</td>\n",
       "      <td>compact</td>\n",
       "      <td>coupe</td>\n",
       "      <td>26</td>\n",
       "      <td>19</td>\n",
       "      <td>3916</td>\n",
       "      <td>46135</td>\n",
       "    </tr>\n",
       "    <tr>\n",
       "      <th>1</th>\n",
       "      <td>bmw</td>\n",
       "      <td>1_series</td>\n",
       "      <td>2011</td>\n",
       "      <td>premium_unleaded_(required)</td>\n",
       "      <td>300.0</td>\n",
       "      <td>6.0</td>\n",
       "      <td>manual</td>\n",
       "      <td>rear_wheel_drive</td>\n",
       "      <td>2.0</td>\n",
       "      <td>luxury,performance</td>\n",
       "      <td>compact</td>\n",
       "      <td>convertible</td>\n",
       "      <td>28</td>\n",
       "      <td>19</td>\n",
       "      <td>3916</td>\n",
       "      <td>40650</td>\n",
       "    </tr>\n",
       "    <tr>\n",
       "      <th>2</th>\n",
       "      <td>bmw</td>\n",
       "      <td>1_series</td>\n",
       "      <td>2011</td>\n",
       "      <td>premium_unleaded_(required)</td>\n",
       "      <td>300.0</td>\n",
       "      <td>6.0</td>\n",
       "      <td>manual</td>\n",
       "      <td>rear_wheel_drive</td>\n",
       "      <td>2.0</td>\n",
       "      <td>luxury,high-performance</td>\n",
       "      <td>compact</td>\n",
       "      <td>coupe</td>\n",
       "      <td>28</td>\n",
       "      <td>20</td>\n",
       "      <td>3916</td>\n",
       "      <td>36350</td>\n",
       "    </tr>\n",
       "    <tr>\n",
       "      <th>3</th>\n",
       "      <td>bmw</td>\n",
       "      <td>1_series</td>\n",
       "      <td>2011</td>\n",
       "      <td>premium_unleaded_(required)</td>\n",
       "      <td>230.0</td>\n",
       "      <td>6.0</td>\n",
       "      <td>manual</td>\n",
       "      <td>rear_wheel_drive</td>\n",
       "      <td>2.0</td>\n",
       "      <td>luxury,performance</td>\n",
       "      <td>compact</td>\n",
       "      <td>coupe</td>\n",
       "      <td>28</td>\n",
       "      <td>18</td>\n",
       "      <td>3916</td>\n",
       "      <td>29450</td>\n",
       "    </tr>\n",
       "    <tr>\n",
       "      <th>4</th>\n",
       "      <td>bmw</td>\n",
       "      <td>1_series</td>\n",
       "      <td>2011</td>\n",
       "      <td>premium_unleaded_(required)</td>\n",
       "      <td>230.0</td>\n",
       "      <td>6.0</td>\n",
       "      <td>manual</td>\n",
       "      <td>rear_wheel_drive</td>\n",
       "      <td>2.0</td>\n",
       "      <td>luxury</td>\n",
       "      <td>compact</td>\n",
       "      <td>convertible</td>\n",
       "      <td>28</td>\n",
       "      <td>18</td>\n",
       "      <td>3916</td>\n",
       "      <td>34500</td>\n",
       "    </tr>\n",
       "  </tbody>\n",
       "</table>\n",
       "</div>"
      ],
      "text/plain": [
       "  make       model  year             engine_fuel_type  engine_hp  \\\n",
       "0  bmw  1_series_m  2011  premium_unleaded_(required)      335.0   \n",
       "1  bmw    1_series  2011  premium_unleaded_(required)      300.0   \n",
       "2  bmw    1_series  2011  premium_unleaded_(required)      300.0   \n",
       "3  bmw    1_series  2011  premium_unleaded_(required)      230.0   \n",
       "4  bmw    1_series  2011  premium_unleaded_(required)      230.0   \n",
       "\n",
       "   engine_cylinders transmission_type     driven_wheels  number_of_doors  \\\n",
       "0               6.0            manual  rear_wheel_drive              2.0   \n",
       "1               6.0            manual  rear_wheel_drive              2.0   \n",
       "2               6.0            manual  rear_wheel_drive              2.0   \n",
       "3               6.0            manual  rear_wheel_drive              2.0   \n",
       "4               6.0            manual  rear_wheel_drive              2.0   \n",
       "\n",
       "                         market_category vehicle_size vehicle_style  \\\n",
       "0  factory_tuner,luxury,high-performance      compact         coupe   \n",
       "1                     luxury,performance      compact   convertible   \n",
       "2                luxury,high-performance      compact         coupe   \n",
       "3                     luxury,performance      compact         coupe   \n",
       "4                                 luxury      compact   convertible   \n",
       "\n",
       "   highway_mpg  city_mpg  popularity   msrp  \n",
       "0           26        19        3916  46135  \n",
       "1           28        19        3916  40650  \n",
       "2           28        20        3916  36350  \n",
       "3           28        18        3916  29450  \n",
       "4           28        18        3916  34500  "
      ]
     },
     "execution_count": 8,
     "metadata": {},
     "output_type": "execute_result"
    }
   ],
   "source": [
    "df.head()"
   ]
  },
  {
   "cell_type": "markdown",
   "id": "5d3b35a5-7a4c-46a7-8803-4191c33ca74b",
   "metadata": {},
   "source": [
    "## 2.2 EDA"
   ]
  },
  {
   "cell_type": "code",
   "execution_count": 9,
   "id": "5420f5b8-4cd5-4920-8f4d-e392023946bd",
   "metadata": {},
   "outputs": [
    {
     "name": "stdout",
     "output_type": "stream",
     "text": [
      "make\n",
      "['bmw' 'audi' 'fiat' 'mercedes-benz' 'chrysler']\n",
      "48\n",
      "\n",
      "model\n",
      "['1_series_m' '1_series' '100' '124_spider' '190-class']\n",
      "914\n",
      "\n",
      "year\n",
      "[2011 2012 2013 1992 1993]\n",
      "28\n",
      "\n",
      "engine_fuel_type\n",
      "['premium_unleaded_(required)' 'regular_unleaded'\n",
      " 'premium_unleaded_(recommended)' 'flex-fuel_(unleaded/e85)' 'diesel']\n",
      "10\n",
      "\n",
      "engine_hp\n",
      "[335. 300. 230. 320. 172.]\n",
      "356\n",
      "\n",
      "engine_cylinders\n",
      "[ 6.  4.  5.  8. 12.]\n",
      "9\n",
      "\n",
      "transmission_type\n",
      "['manual' 'automatic' 'automated_manual' 'direct_drive' 'unknown']\n",
      "5\n",
      "\n",
      "driven_wheels\n",
      "['rear_wheel_drive' 'front_wheel_drive' 'all_wheel_drive'\n",
      " 'four_wheel_drive']\n",
      "4\n",
      "\n",
      "number_of_doors\n",
      "[ 2.  4.  3. nan]\n",
      "3\n",
      "\n",
      "market_category\n",
      "['factory_tuner,luxury,high-performance' 'luxury,performance'\n",
      " 'luxury,high-performance' 'luxury' 'performance']\n",
      "71\n",
      "\n",
      "vehicle_size\n",
      "['compact' 'midsize' 'large']\n",
      "3\n",
      "\n",
      "vehicle_style\n",
      "['coupe' 'convertible' 'sedan' 'wagon' '4dr_hatchback']\n",
      "16\n",
      "\n",
      "highway_mpg\n",
      "[26 28 27 25 24]\n",
      "59\n",
      "\n",
      "city_mpg\n",
      "[19 20 18 17 16]\n",
      "69\n",
      "\n",
      "popularity\n",
      "[3916 3105  819  617 1013]\n",
      "48\n",
      "\n",
      "msrp\n",
      "[46135 40650 36350 29450 34500]\n",
      "6049\n",
      "\n"
     ]
    }
   ],
   "source": [
    "for col in df.columns:\n",
    "    print(col)\n",
    "    print(df[col].unique()[:5])\n",
    "    print(df[col].nunique())\n",
    "    print()"
   ]
  },
  {
   "cell_type": "code",
   "execution_count": 10,
   "id": "5ea4b45c-5e26-46f2-92fe-324833930494",
   "metadata": {},
   "outputs": [
    {
     "data": {
      "text/plain": [
       "<Axes: xlabel='msrp', ylabel='Count'>"
      ]
     },
     "execution_count": 10,
     "metadata": {},
     "output_type": "execute_result"
    },
    {
     "data": {
      "image/png": "[encoded data removed]",
      "text/plain": [
       "<Figure size 640x480 with 1 Axes>"
      ]
     },
     "metadata": {},
     "output_type": "display_data"
    }
   ],
   "source": [
    "# Distribution of car price\n",
    "sns.histplot(df.msrp, bins=50)"
   ]
  },
  {
   "cell_type": "markdown",
   "id": "bff0cc54-239d-4bde-93d3-6d9b03c0f58d",
   "metadata": {},
   "source": [
    "Car price is not distributed evenly, there is a long tail on the right indicating that there are only a few cars with very high price (up to 2m). The majority of car is priced at below 150k. To see the distribution of the majority, we can zoom in and focus only on the proportion of car priced at below 200k."
   ]
  },
  {
   "cell_type": "code",
   "execution_count": 11,
   "id": "95c5b995-1e56-42d4-99d0-355c5b1cca6e",
   "metadata": {},
   "outputs": [
    {
     "data": {
      "text/plain": [
       "<Axes: xlabel='msrp', ylabel='Count'>"
      ]
     },
     "execution_count": 11,
     "metadata": {},
     "output_type": "execute_result"
    },
    {
     "data": {
      "image/png": "[encoded data removed]",
      "text/plain": [
       "<Figure size 640x480 with 1 Axes>"
      ]
     },
     "metadata": {},
     "output_type": "display_data"
    }
   ],
   "source": [
    "sns.histplot(df.msrp[df.msrp < 200000], bins=50)"
   ]
  },
  {
   "cell_type": "markdown",
   "id": "57a7091d-6203-4912-85c5-b1c923e99bb4",
   "metadata": {},
   "source": [
    "The distribution of price is better, but still skewed with a long tail. To converse the distribution to a normal-like, we need to apply log function to price. To do so, use function np.log1p."
   ]
  },
  {
   "cell_type": "code",
   "execution_count": 12,
   "id": "06ad4420-82cb-4da2-8c36-8c687a7af2c0",
   "metadata": {},
   "outputs": [],
   "source": [
    "price_logs = np.log1p(df.msrp)"
   ]
  },
  {
   "cell_type": "code",
   "execution_count": 13,
   "id": "e9b2e0cb-2a0e-49dd-a762-8c1116ff7930",
   "metadata": {},
   "outputs": [
    {
     "data": {
      "text/plain": [
       "<Axes: xlabel='msrp', ylabel='Count'>"
      ]
     },
     "execution_count": 13,
     "metadata": {},
     "output_type": "execute_result"
    },
    {
     "data": {
      "image/png": "[encoded data removed]",
      "text/plain": [
       "<Figure size 640x480 with 1 Axes>"
      ]
     },
     "metadata": {},
     "output_type": "display_data"
    }
   ],
   "source": [
    "sns.histplot(price_logs, bins=50)"
   ]
  },
  {
   "cell_type": "markdown",
   "id": "33dd3693-d52e-4a82-a1d1-4130fe879eb8",
   "metadata": {},
   "source": [
    "The price distribution becomes more normally distributed with 2 tails and a centre. However, there is still a huge spike of car being priced at 1000. This is the characteristic of the data that need to be taken into account when training model. "
   ]
  },
  {
   "cell_type": "code",
   "execution_count": 14,
   "id": "0b9f0cd8-eeb7-4e7f-b296-06c6a08dfde3",
   "metadata": {},
   "outputs": [
    {
     "data": {
      "text/plain": [
       "make                    0\n",
       "model                   0\n",
       "year                    0\n",
       "engine_fuel_type        3\n",
       "engine_hp              69\n",
       "engine_cylinders       30\n",
       "transmission_type       0\n",
       "driven_wheels           0\n",
       "number_of_doors         6\n",
       "market_category      3742\n",
       "vehicle_size            0\n",
       "vehicle_style           0\n",
       "highway_mpg             0\n",
       "city_mpg                0\n",
       "popularity              0\n",
       "msrp                    0\n",
       "dtype: int64"
      ]
     },
     "execution_count": 14,
     "metadata": {},
     "output_type": "execute_result"
    }
   ],
   "source": [
    "# Missing values\n",
    "\n",
    "df.isnull().sum()"
   ]
  },
  {
   "cell_type": "code",
   "execution_count": null,
   "id": "ad110162-b539-4851-ac8e-03d5fe5d9978",
   "metadata": {},
   "outputs": [],
   "source": []
  },
  {
   "cell_type": "code",
   "execution_count": null,
   "id": "d73cfd2f-091c-48ba-857a-c8efd24b83d3",
   "metadata": {},
   "outputs": [],
   "source": []
  },
  {
   "cell_type": "code",
   "execution_count": null,
   "id": "cc2abe20-2b64-4311-965e-0503d2957cb2",
   "metadata": {},
   "outputs": [],
   "source": []
  },
  {
   "cell_type": "markdown",
   "id": "b0b62ad7-c57a-4f60-a41a-c7773c0633b7",
   "metadata": {},
   "source": [
    "## 2.3 Train, test, validation split"
   ]
  },
  {
   "cell_type": "markdown",
   "id": "c3d0a60f-033c-467b-96a0-38cbac9b18cc",
   "metadata": {},
   "source": [
    "In order to train and evaluate the model, we need to split data into train, test, and validation portion. Train data will be used to train the model and validation set will be used to evaluate the model performance. Finally, the model with best performance will be tested against using the test data set to ensure that it is not lucky that the model has the best performance."
   ]
  },
  {
   "cell_type": "code",
   "execution_count": 15,
   "id": "3efeaca9-ad90-4bb3-b9c5-f12cef9f597c",
   "metadata": {},
   "outputs": [],
   "source": [
    "n = len(df)\n",
    "\n",
    "n_val = int(n * 0.2)\n",
    "n_test = int(n * 0.2)\n",
    "n_train = n - n_val - n_test"
   ]
  },
  {
   "cell_type": "code",
   "execution_count": 16,
   "id": "f5dad38a-3283-468b-aee3-b74b134b1f7b",
   "metadata": {},
   "outputs": [
    {
     "data": {
      "text/plain": [
       "(7150, 2382, 2382)"
      ]
     },
     "execution_count": 16,
     "metadata": {},
     "output_type": "execute_result"
    }
   ],
   "source": [
    "n_train, n_val, n_test"
   ]
  },
  {
   "cell_type": "markdown",
   "id": "eb640e0f-d21c-498c-9385-061573f4eb82",
   "metadata": {},
   "source": [
    "To split the data, we first need to shuffle the data in order to get a balanced split for each train, test and validation data set. Then we split the data into the ratio 60 : 20 : 20."
   ]
  },
  {
   "cell_type": "code",
   "execution_count": 17,
   "id": "420f7470-c29a-411f-b1d1-3b057996d7e2",
   "metadata": {},
   "outputs": [],
   "source": [
    "idx = np.arange(n)"
   ]
  },
  {
   "cell_type": "code",
   "execution_count": 18,
   "id": "7f7452ed-d37b-4d17-8fca-d53ccf63e93c",
   "metadata": {},
   "outputs": [],
   "source": [
    "np.random.seed(42)\n",
    "np.random.shuffle(idx)"
   ]
  },
  {
   "cell_type": "code",
   "execution_count": 19,
   "id": "3b004964-f7f1-4b1a-89bb-6024e646443a",
   "metadata": {},
   "outputs": [],
   "source": [
    "df_train = df.iloc[idx[:n_train]]\n",
    "df_val = df.iloc[idx[n_train:n_train+n_val]]\n",
    "df_test = df.iloc[idx[n_train+n_val:]]"
   ]
  },
  {
   "cell_type": "code",
   "execution_count": 20,
   "id": "0910ac6d-b10f-4863-8c43-2221c059c079",
   "metadata": {},
   "outputs": [
    {
     "data": {
      "text/html": [
       "<div>\n",
       "<style scoped>\n",
       "    .dataframe tbody tr th:only-of-type {\n",
       "        vertical-align: middle;\n",
       "    }\n",
       "\n",
       "    .dataframe tbody tr th {\n",
       "        vertical-align: top;\n",
       "    }\n",
       "\n",
       "    .dataframe thead th {\n",
       "        text-align: right;\n",
       "    }\n",
       "</style>\n",
       "<table border=\"1\" class=\"dataframe\">\n",
       "  <thead>\n",
       "    <tr style=\"text-align: right;\">\n",
       "      <th></th>\n",
       "      <th>make</th>\n",
       "      <th>model</th>\n",
       "      <th>year</th>\n",
       "      <th>engine_fuel_type</th>\n",
       "      <th>engine_hp</th>\n",
       "      <th>engine_cylinders</th>\n",
       "      <th>transmission_type</th>\n",
       "      <th>driven_wheels</th>\n",
       "      <th>number_of_doors</th>\n",
       "      <th>market_category</th>\n",
       "      <th>vehicle_size</th>\n",
       "      <th>vehicle_style</th>\n",
       "      <th>highway_mpg</th>\n",
       "      <th>city_mpg</th>\n",
       "      <th>popularity</th>\n",
       "      <th>msrp</th>\n",
       "    </tr>\n",
       "  </thead>\n",
       "  <tbody>\n",
       "    <tr>\n",
       "      <th>3995</th>\n",
       "      <td>gmc</td>\n",
       "      <td>envoy_xl</td>\n",
       "      <td>2005</td>\n",
       "      <td>regular_unleaded</td>\n",
       "      <td>275.0</td>\n",
       "      <td>6.0</td>\n",
       "      <td>automatic</td>\n",
       "      <td>rear_wheel_drive</td>\n",
       "      <td>4.0</td>\n",
       "      <td>NaN</td>\n",
       "      <td>large</td>\n",
       "      <td>4dr_suv</td>\n",
       "      <td>18</td>\n",
       "      <td>13</td>\n",
       "      <td>549</td>\n",
       "      <td>29695</td>\n",
       "    </tr>\n",
       "    <tr>\n",
       "      <th>7474</th>\n",
       "      <td>volkswagen</td>\n",
       "      <td>passat</td>\n",
       "      <td>2016</td>\n",
       "      <td>regular_unleaded</td>\n",
       "      <td>170.0</td>\n",
       "      <td>4.0</td>\n",
       "      <td>automatic</td>\n",
       "      <td>front_wheel_drive</td>\n",
       "      <td>4.0</td>\n",
       "      <td>NaN</td>\n",
       "      <td>midsize</td>\n",
       "      <td>sedan</td>\n",
       "      <td>38</td>\n",
       "      <td>25</td>\n",
       "      <td>873</td>\n",
       "      <td>30495</td>\n",
       "    </tr>\n",
       "    <tr>\n",
       "      <th>7300</th>\n",
       "      <td>honda</td>\n",
       "      <td>odyssey</td>\n",
       "      <td>2016</td>\n",
       "      <td>regular_unleaded</td>\n",
       "      <td>248.0</td>\n",
       "      <td>6.0</td>\n",
       "      <td>automatic</td>\n",
       "      <td>front_wheel_drive</td>\n",
       "      <td>4.0</td>\n",
       "      <td>NaN</td>\n",
       "      <td>large</td>\n",
       "      <td>passenger_minivan</td>\n",
       "      <td>28</td>\n",
       "      <td>19</td>\n",
       "      <td>2202</td>\n",
       "      <td>37650</td>\n",
       "    </tr>\n",
       "    <tr>\n",
       "      <th>3148</th>\n",
       "      <td>chevrolet</td>\n",
       "      <td>cruze</td>\n",
       "      <td>2015</td>\n",
       "      <td>regular_unleaded</td>\n",
       "      <td>138.0</td>\n",
       "      <td>4.0</td>\n",
       "      <td>manual</td>\n",
       "      <td>front_wheel_drive</td>\n",
       "      <td>4.0</td>\n",
       "      <td>NaN</td>\n",
       "      <td>midsize</td>\n",
       "      <td>sedan</td>\n",
       "      <td>36</td>\n",
       "      <td>25</td>\n",
       "      <td>1385</td>\n",
       "      <td>16170</td>\n",
       "    </tr>\n",
       "    <tr>\n",
       "      <th>747</th>\n",
       "      <td>volvo</td>\n",
       "      <td>740</td>\n",
       "      <td>1991</td>\n",
       "      <td>regular_unleaded</td>\n",
       "      <td>162.0</td>\n",
       "      <td>4.0</td>\n",
       "      <td>automatic</td>\n",
       "      <td>rear_wheel_drive</td>\n",
       "      <td>4.0</td>\n",
       "      <td>luxury,performance</td>\n",
       "      <td>midsize</td>\n",
       "      <td>sedan</td>\n",
       "      <td>20</td>\n",
       "      <td>17</td>\n",
       "      <td>870</td>\n",
       "      <td>2000</td>\n",
       "    </tr>\n",
       "  </tbody>\n",
       "</table>\n",
       "</div>"
      ],
      "text/plain": [
       "            make     model  year  engine_fuel_type  engine_hp  \\\n",
       "3995         gmc  envoy_xl  2005  regular_unleaded      275.0   \n",
       "7474  volkswagen    passat  2016  regular_unleaded      170.0   \n",
       "7300       honda   odyssey  2016  regular_unleaded      248.0   \n",
       "3148   chevrolet     cruze  2015  regular_unleaded      138.0   \n",
       "747        volvo       740  1991  regular_unleaded      162.0   \n",
       "\n",
       "      engine_cylinders transmission_type      driven_wheels  number_of_doors  \\\n",
       "3995               6.0         automatic   rear_wheel_drive              4.0   \n",
       "7474               4.0         automatic  front_wheel_drive              4.0   \n",
       "7300               6.0         automatic  front_wheel_drive              4.0   \n",
       "3148               4.0            manual  front_wheel_drive              4.0   \n",
       "747                4.0         automatic   rear_wheel_drive              4.0   \n",
       "\n",
       "         market_category vehicle_size      vehicle_style  highway_mpg  \\\n",
       "3995                 NaN        large            4dr_suv           18   \n",
       "7474                 NaN      midsize              sedan           38   \n",
       "7300                 NaN        large  passenger_minivan           28   \n",
       "3148                 NaN      midsize              sedan           36   \n",
       "747   luxury,performance      midsize              sedan           20   \n",
       "\n",
       "      city_mpg  popularity   msrp  \n",
       "3995        13         549  29695  \n",
       "7474        25         873  30495  \n",
       "7300        19        2202  37650  \n",
       "3148        25        1385  16170  \n",
       "747         17         870   2000  "
      ]
     },
     "execution_count": 20,
     "metadata": {},
     "output_type": "execute_result"
    }
   ],
   "source": [
    "df_train.head()"
   ]
  },
  {
   "cell_type": "code",
   "execution_count": 21,
   "id": "4caf4745-9db2-4019-9535-666bd06f5cf3",
   "metadata": {},
   "outputs": [],
   "source": [
    "# Extract the target from each data set\n",
    "\n",
    "y_train = np.log1p(df_train.msrp.values)\n",
    "y_test = np.log1p(df_test.msrp.values)\n",
    "y_val = np.log1p(df_val.msrp.values)"
   ]
  },
  {
   "cell_type": "code",
   "execution_count": 22,
   "id": "2646ddd4-091b-4180-a153-e60179448080",
   "metadata": {},
   "outputs": [],
   "source": [
    "# Remove the target from data set to prevent data leakage\n",
    "\n",
    "del df_train['msrp']\n",
    "del df_test['msrp']\n",
    "del df_val['msrp']"
   ]
  },
  {
   "cell_type": "code",
   "execution_count": 23,
   "id": "e6a2606f-c881-4cbc-8603-910c21757773",
   "metadata": {},
   "outputs": [
    {
     "data": {
      "text/plain": [
       "(7150, 2382, 2382)"
      ]
     },
     "execution_count": 23,
     "metadata": {},
     "output_type": "execute_result"
    }
   ],
   "source": [
    "len(y_train), len(y_val), len(y_test)"
   ]
  },
  {
   "cell_type": "code",
   "execution_count": 24,
   "id": "2ed8a0fc-592b-4b2a-9ab9-e0a1451371ef",
   "metadata": {},
   "outputs": [
    {
     "data": {
      "text/plain": [
       "array([10.29876764, 10.32535081, 10.53611479,  9.69097479,  7.60140233])"
      ]
     },
     "execution_count": 24,
     "metadata": {},
     "output_type": "execute_result"
    }
   ],
   "source": [
    "y_train[:5]"
   ]
  },
  {
   "cell_type": "markdown",
   "id": "4755c06e-c62d-4a6a-a39b-0defa07a8c5a",
   "metadata": {},
   "source": [
    "## 2.4 Linear Regression\n",
    "Linear regression is finding a function g(x) that can approximates y with the lowest error (error to be defined). In this section, we try to define a simply function for one observation."
   ]
  },
  {
   "cell_type": "code",
   "execution_count": 25,
   "id": "cbd44e64-a575-41b5-8794-974178718963",
   "metadata": {},
   "outputs": [
    {
     "data": {
      "text/plain": [
       "make                                           ford\n",
       "model                                          flex\n",
       "year                                           2016\n",
       "engine_fuel_type     premium_unleaded_(recommended)\n",
       "engine_hp                                     365.0\n",
       "engine_cylinders                                6.0\n",
       "transmission_type                         automatic\n",
       "driven_wheels                       all_wheel_drive\n",
       "number_of_doors                                 4.0\n",
       "market_category                           crossover\n",
       "vehicle_size                                  large\n",
       "vehicle_style                                 wagon\n",
       "highway_mpg                                      21\n",
       "city_mpg                                         15\n",
       "popularity                                     5657\n",
       "Name: 4759, dtype: object"
      ]
     },
     "execution_count": 25,
     "metadata": {},
     "output_type": "execute_result"
    }
   ],
   "source": [
    "df_train.iloc[6]"
   ]
  },
  {
   "cell_type": "code",
   "execution_count": 26,
   "id": "f1b46b83-caeb-4a5c-8ba8-345558164091",
   "metadata": {},
   "outputs": [],
   "source": [
    "xi = [365, 15, 56] # vector xi of the observation, contain the variables used in our model\n",
    "w0 = 7.17 # bias or w0\n",
    "w = [0.01, 0.04, 0.002] # weight for each features of xi"
   ]
  },
  {
   "cell_type": "code",
   "execution_count": 27,
   "id": "13d70ef1-06a5-4bbf-bced-baadeb420a63",
   "metadata": {},
   "outputs": [],
   "source": [
    "def linear_regression(xi):\n",
    "    n = len(xi)\n",
    "    pred = w0\n",
    "    for j in range(n):\n",
    "        pred += xi[j] * w[j]\n",
    "\n",
    "    return pred"
   ]
  },
  {
   "cell_type": "code",
   "execution_count": 28,
   "id": "cf7a18f7-b342-4f26-af62-cbd2a9f38913",
   "metadata": {},
   "outputs": [
    {
     "data": {
      "text/plain": [
       "11.532"
      ]
     },
     "execution_count": 28,
     "metadata": {},
     "output_type": "execute_result"
    }
   ],
   "source": [
    "linear_regression(xi)"
   ]
  },
  {
   "cell_type": "code",
   "execution_count": 29,
   "id": "2fd4e9c7-c262-49ce-b7fc-d0e047193967",
   "metadata": {},
   "outputs": [
    {
     "data": {
      "text/plain": [
       "np.float64(101924.76161830177)"
      ]
     },
     "execution_count": 29,
     "metadata": {},
     "output_type": "execute_result"
    }
   ],
   "source": [
    "np.expm1(linear_regression(xi))"
   ]
  },
  {
   "cell_type": "markdown",
   "id": "29c3643d-1b8d-4a38-99e7-8fbc8bedc140",
   "metadata": {},
   "source": [
    "In the vector form, we can use dot product operation to perform the calculation of the linear regression. Essentially this would replace the need to add xi[j] * w[j] each time. To write it in compact form, include the bias term w0 inside the w matrix. To do so, we need to add a constant of one to X matrix."
   ]
  },
  {
   "cell_type": "markdown",
   "id": "884e111e-c43c-4cc0-a87d-276cbf13dae1",
   "metadata": {},
   "source": [
    "Given our model Xtw = y, we need to calculate the matrix w to use as weight for our linear regression. However, X is not always a squared matrix so its inverse is not always defined. Therefore, we need to calculate a GRAM matrix (XtX) which will be a squared matrix, then find the inverse of this matrix. w will be approximated by (XTX)^-1 * XT * y"
   ]
  },
  {
   "cell_type": "code",
   "execution_count": 30,
   "id": "38ba7b8c-f1e9-4132-b05c-9fc70270aa7f",
   "metadata": {},
   "outputs": [],
   "source": [
    "def train_linear_regression(X, y):\n",
    "    ones = np.ones(X.shape[0])\n",
    "    X = np.column_stack([ones, X])\n",
    "\n",
    "    XTX = X.T.dot(X)\n",
    "    XTX_inv = np.linalg.inv(XTX)\n",
    "    w = XTX_inv.dot(X.T).dot(y)\n",
    "\n",
    "    return w[0], w[1:]"
   ]
  },
  {
   "cell_type": "code",
   "execution_count": 31,
   "id": "876c3140-1bbb-42a4-bd8c-f7cc2fe111b4",
   "metadata": {},
   "outputs": [],
   "source": [
    "X = [\n",
    "    [148, 24, 1385],\n",
    "    [132, 25, 2031],\n",
    "    [453, 11, 86],\n",
    "    [158, 24, 185],\n",
    "    [172, 25, 201],\n",
    "    [413, 11, 86],\n",
    "    [38,  54, 185],\n",
    "    [142, 25, 431],\n",
    "    [453, 31, 86],\n",
    "]\n",
    "\n",
    "X = np.array(X)\n",
    "X\n",
    "y = [10000, 20000, 15000, 20050, 10000, 20000, 15000, 25000, 12000]"
   ]
  },
  {
   "cell_type": "code",
   "execution_count": null,
   "id": "98fc4811-5d18-4b46-8472-6481326c9131",
   "metadata": {},
   "outputs": [],
   "source": []
  },
  {
   "cell_type": "markdown",
   "id": "ad3546fa-1b9b-4307-9510-5162957ec699",
   "metadata": {},
   "source": [
    "## 2.5 Car price baseline model"
   ]
  },
  {
   "cell_type": "markdown",
   "id": "1162fc7e-9f73-4217-9ecc-d58ba28cb6fd",
   "metadata": {},
   "source": [
    "We first pick 5 features to used in the linear regression model. For simplicity, we choose the features that are already in numerical format. We will feed this to the training model to obtain the w matrix and use the model to compare against the actual price, see how the model perform."
   ]
  },
  {
   "cell_type": "code",
   "execution_count": 32,
   "id": "e9217005-7ca9-49cf-b122-f0254044d848",
   "metadata": {},
   "outputs": [],
   "source": [
    "base_features = ['engine_hp', 'engine_cylinders', 'highway_mpg', 'city_mpg', 'popularity']\n",
    "\n",
    "X_train = df_train[base_features].fillna(0).values\n",
    "\n",
    "w0, w = train_linear_regression(X_train, y_train)\n",
    "\n",
    "y_pred = w0 + X_train.dot(w)"
   ]
  },
  {
   "cell_type": "code",
   "execution_count": 33,
   "id": "857c4409-350b-41e8-8821-084ebcbf6f7e",
   "metadata": {},
   "outputs": [
    {
     "data": {
      "text/plain": [
       "(np.float64(7.9048946245363085),\n",
       " array([ 9.35338298e-03, -1.38236607e-01,  1.49631207e-02,  1.51021128e-02,\n",
       "        -1.97546303e-05]))"
      ]
     },
     "execution_count": 33,
     "metadata": {},
     "output_type": "execute_result"
    }
   ],
   "source": [
    "w0, w"
   ]
  },
  {
   "cell_type": "code",
   "execution_count": 34,
   "id": "88caeb5c-ceb9-4b63-8f63-50aaec95e8b2",
   "metadata": {},
   "outputs": [
    {
     "data": {
      "text/plain": [
       "<Axes: ylabel='Count'>"
      ]
     },
     "execution_count": 34,
     "metadata": {},
     "output_type": "execute_result"
    },
    {
     "data": {
      "image/png": "[encoded data removed]",
      "text/plain": [
       "<Figure size 640x480 with 1 Axes>"
      ]
     },
     "metadata": {},
     "output_type": "display_data"
    }
   ],
   "source": [
    "sns.histplot(y_pred, color='red', alpha=0.5, bins=50)\n",
    "sns.histplot(y_train, color='blue', alpha=0.5, bins=50)"
   ]
  },
  {
   "cell_type": "markdown",
   "id": "4beb5d37-1226-4cab-b4d1-13c98d3bbfe2",
   "metadata": {},
   "source": [
    "## 2.6 Root Mean Squared Error (MSRE)\n",
    "This is a metrix to measure the performance of a statistical model. It is calculated by taking the square of difference between the y_pred and y_actual. Calculating the mean of all difference term and then square root."
   ]
  },
  {
   "cell_type": "code",
   "execution_count": 35,
   "id": "4f998665-0371-4462-949f-93905a1d199b",
   "metadata": {},
   "outputs": [],
   "source": [
    "def rmse(y, y_pred):\n",
    "    se = (y - y_pred) ** 2\n",
    "    mse = se.mean()\n",
    "    return np.sqrt(mse)"
   ]
  },
  {
   "cell_type": "code",
   "execution_count": 36,
   "id": "3e871091-bfa2-4fa7-b548-38d3aab04c42",
   "metadata": {},
   "outputs": [
    {
     "data": {
      "text/plain": [
       "np.float64(0.7570200472453603)"
      ]
     },
     "execution_count": 36,
     "metadata": {},
     "output_type": "execute_result"
    }
   ],
   "source": [
    "rmse(y_train, y_pred)"
   ]
  },
  {
   "cell_type": "code",
   "execution_count": null,
   "id": "62b1c474-3326-4a1b-8feb-9d8be6acf1d1",
   "metadata": {},
   "outputs": [],
   "source": []
  },
  {
   "cell_type": "markdown",
   "id": "6112b91c-7b3b-4486-a968-01bea165897b",
   "metadata": {},
   "source": [
    "## 2.7 Validating the model\n",
    "Apply the linear regression model to validation data set, then calculate the RSME of the result."
   ]
  },
  {
   "cell_type": "code",
   "execution_count": 37,
   "id": "64ac502e-b697-4b23-9b1a-b087339404ac",
   "metadata": {},
   "outputs": [],
   "source": [
    "def prepare_X(df, base_features=['engine_hp', 'engine_cylinders', 'highway_mpg', 'city_mpg', 'popularity']):\n",
    "    df_num = df[base_features]\n",
    "    df_num = df_num.fillna(0)\n",
    "    return df_num.values"
   ]
  },
  {
   "cell_type": "code",
   "execution_count": 38,
   "id": "45aca311-6987-4d3d-8861-46559488c737",
   "metadata": {},
   "outputs": [
    {
     "data": {
      "text/plain": [
       "np.float64(0.739818428511342)"
      ]
     },
     "execution_count": 38,
     "metadata": {},
     "output_type": "execute_result"
    }
   ],
   "source": [
    "X_train = prepare_X(df_train)\n",
    "w0, w = train_linear_regression(X_train, y_train)\n",
    "\n",
    "X_val = prepare_X(df_val)\n",
    "y_pred = w0 + X_val.dot(w)\n",
    "\n",
    "rmse(y_val, y_pred)"
   ]
  },
  {
   "cell_type": "code",
   "execution_count": 39,
   "id": "9aab49f0-ca59-4b50-8bb3-3c4aac151455",
   "metadata": {},
   "outputs": [
    {
     "data": {
      "text/plain": [
       "<Axes: ylabel='Count'>"
      ]
     },
     "execution_count": 39,
     "metadata": {},
     "output_type": "execute_result"
    },
    {
     "data": {
      "image/png": "[encoded data removed]",
      "text/plain": [
       "<Figure size 640x480 with 1 Axes>"
      ]
     },
     "metadata": {},
     "output_type": "display_data"
    }
   ],
   "source": [
    "sns.histplot(y_val, color='red', alpha=0.5, bins=50)\n",
    "sns.histplot(y_pred, color='blue', alpha=0.5, bins=50)"
   ]
  },
  {
   "cell_type": "code",
   "execution_count": null,
   "id": "cd42e69c-5e84-4e7b-aad8-ad6ed03ce181",
   "metadata": {},
   "outputs": [],
   "source": []
  },
  {
   "cell_type": "code",
   "execution_count": null,
   "id": "b4ec2d20-fb9d-40d1-b98c-bdee0cb9964a",
   "metadata": {},
   "outputs": [],
   "source": []
  },
  {
   "cell_type": "markdown",
   "id": "94b2bf7c-e4e1-47df-bdae-3a36b08b1f46",
   "metadata": {},
   "source": [
    "## 2.8 Feature Engineerring\n",
    "\n",
    "To further improve the model performance, we can create new feature and use it to train our model.\n",
    "In this example, we calculate the age of each car and feed that into the model."
   ]
  },
  {
   "cell_type": "code",
   "execution_count": 40,
   "id": "2bc6e64c-d722-4cd1-9509-9b140c848e3b",
   "metadata": {},
   "outputs": [],
   "source": [
    "def prepare_X(df, base_features=['engine_hp', 'engine_cylinders', 'highway_mpg', 'city_mpg', 'popularity']):\n",
    "    df = df.copy()\n",
    "    df['age'] = 2025 - df['year']\n",
    "    features = base_features + ['age']\n",
    "    df_num = df[features]\n",
    "    df_num = df_num.fillna(0)\n",
    "    return df_num.values"
   ]
  },
  {
   "cell_type": "code",
   "execution_count": 41,
   "id": "f3c7d6cf-3ea3-45e8-ae3a-e55277ec2bed",
   "metadata": {},
   "outputs": [
    {
     "data": {
      "text/plain": [
       "np.float64(0.5133241025826354)"
      ]
     },
     "execution_count": 41,
     "metadata": {},
     "output_type": "execute_result"
    }
   ],
   "source": [
    "X_train = prepare_X(df_train)\n",
    "w0, w = train_linear_regression(X_train, y_train)\n",
    "\n",
    "X_val = prepare_X(df_val)\n",
    "y_pred = w0 + X_val.dot(w)\n",
    "\n",
    "rmse(y_val, y_pred)"
   ]
  },
  {
   "cell_type": "code",
   "execution_count": 42,
   "id": "aa465b40-0b48-4717-8fb2-abb9364aa0ae",
   "metadata": {},
   "outputs": [
    {
     "data": {
      "text/plain": [
       "<Axes: ylabel='Count'>"
      ]
     },
     "execution_count": 42,
     "metadata": {},
     "output_type": "execute_result"
    },
    {
     "data": {
      "image/png": "[encoded data removed]",
      "text/plain": [
       "<Figure size 640x480 with 1 Axes>"
      ]
     },
     "metadata": {},
     "output_type": "display_data"
    }
   ],
   "source": [
    "sns.histplot(y_val, color='red', alpha=0.5, bins=50)\n",
    "sns.histplot(y_pred, color='blue', alpha=0.5, bins=50)"
   ]
  },
  {
   "cell_type": "markdown",
   "id": "d51cd5c3-807e-4193-9a04-175f55e96caa",
   "metadata": {},
   "source": [
    "After implementing the new feature, the RMSE improved significantly. We can see that the prediction now more aligned to the actual validation data set."
   ]
  },
  {
   "cell_type": "markdown",
   "id": "f13dc4a5-2d2e-4242-9363-a1836d47093e",
   "metadata": {},
   "source": [
    "## 2.9 Categorial Variables"
   ]
  },
  {
   "cell_type": "code",
   "execution_count": 43,
   "id": "1f024fb5-93ad-4709-863c-77ff71cacd7a",
   "metadata": {},
   "outputs": [],
   "source": [
    "categorical_columns = [\n",
    "    'make', 'model', 'engine_fuel_type', 'driven_wheels', 'market_category',\n",
    "    'vehicle_size', 'vehicle_style']\n",
    "\n",
    "categorical = {}\n",
    "\n",
    "for c in categorical_columns:\n",
    "    categorical[c] = list(df_train[c].value_counts().head().index)"
   ]
  },
  {
   "cell_type": "code",
   "execution_count": 44,
   "id": "8c964f44-a121-4baa-af50-cee810360d99",
   "metadata": {},
   "outputs": [
    {
     "data": {
      "text/plain": [
       "{'make': ['chevrolet', 'ford', 'volkswagen', 'toyota', 'dodge'],\n",
       " 'model': ['silverado_1500',\n",
       "  'tundra',\n",
       "  'f-150',\n",
       "  'sierra_1500',\n",
       "  'beetle_convertible'],\n",
       " 'engine_fuel_type': ['regular_unleaded',\n",
       "  'premium_unleaded_(required)',\n",
       "  'premium_unleaded_(recommended)',\n",
       "  'flex-fuel_(unleaded/e85)',\n",
       "  'diesel'],\n",
       " 'driven_wheels': ['front_wheel_drive',\n",
       "  'rear_wheel_drive',\n",
       "  'all_wheel_drive',\n",
       "  'four_wheel_drive'],\n",
       " 'market_category': ['crossover',\n",
       "  'flex_fuel',\n",
       "  'luxury',\n",
       "  'luxury,performance',\n",
       "  'hatchback'],\n",
       " 'vehicle_size': ['compact', 'midsize', 'large'],\n",
       " 'vehicle_style': ['sedan',\n",
       "  '4dr_suv',\n",
       "  'coupe',\n",
       "  'convertible',\n",
       "  '4dr_hatchback']}"
      ]
     },
     "execution_count": 44,
     "metadata": {},
     "output_type": "execute_result"
    }
   ],
   "source": [
    "categorical"
   ]
  },
  {
   "cell_type": "code",
   "execution_count": 45,
   "id": "05e20d25-3ee4-4b6c-8458-b1229fd980cc",
   "metadata": {},
   "outputs": [],
   "source": [
    "def prepare_X(df, base_features=['engine_hp', 'engine_cylinders', 'highway_mpg', 'city_mpg', 'popularity']):\n",
    "    df = df.copy()\n",
    "\n",
    "    # Feature engineering\n",
    "    df['age'] = 2025 - df['year']\n",
    "    features = base_features + ['age']\n",
    "\n",
    "    # Include categorial feature\n",
    "    for name, values in categorical.items():\n",
    "        for value in values:\n",
    "            df['%s_%s' % (name, value)] = (df[name] == value).astype('int')\n",
    "            features.append('%s_%s' % (name, value))\n",
    "\n",
    "    df_num = df[features]\n",
    "    df_num = df_num.fillna(0)\n",
    "    \n",
    "    return df_num.values"
   ]
  },
  {
   "cell_type": "code",
   "execution_count": 46,
   "id": "cffb8ed8-70d8-432d-bdd7-a12bbcd6b2ba",
   "metadata": {},
   "outputs": [
    {
     "data": {
      "text/plain": [
       "np.float64(60.23921547935616)"
      ]
     },
     "execution_count": 46,
     "metadata": {},
     "output_type": "execute_result"
    }
   ],
   "source": [
    "X_train = prepare_X(df_train)\n",
    "w0, w = train_linear_regression(X_train, y_train)\n",
    "\n",
    "X_val = prepare_X(df_val)\n",
    "y_pred = w0 + X_val.dot(w)\n",
    "\n",
    "rmse(y_val, y_pred)"
   ]
  },
  {
   "cell_type": "code",
   "execution_count": 47,
   "id": "649595c7-48fa-4879-a860-51f83c872ef2",
   "metadata": {},
   "outputs": [
    {
     "data": {
      "text/plain": [
       "<Axes: ylabel='Count'>"
      ]
     },
     "execution_count": 47,
     "metadata": {},
     "output_type": "execute_result"
    },
    {
     "data": {
      "image/png": "[encoded data removed]",
      "text/plain": [
       "<Figure size 640x480 with 1 Axes>"
      ]
     },
     "metadata": {},
     "output_type": "display_data"
    }
   ],
   "source": [
    "sns.histplot(y_val, color='red', alpha=0.5, bins=50)\n",
    "sns.histplot(y_pred, color='blue', alpha=0.5, bins=50)"
   ]
  },
  {
   "cell_type": "markdown",
   "id": "fb37eca5-ac65-4fac-a080-b4b818645b98",
   "metadata": {},
   "source": [
    "## 2.10 Regularization\n",
    "If the feature X contain duplicate columns or columns that can be expressed as a linear combination of other columns (i.e. feature are not independent), it will not have an inverse matrix. However, this error could be passed if certain values are different slightly (5 vs 5.00001) between duplicated columns. When this happen, the inverse matrix existed but the component in the matrix will be overstated to very large or very small number. \n",
    "\n",
    "Therefore, if we apply the normal equation with this feature matrix, the values assocated with duplicated columns will be inflated, leading to poorer performance of the model. To solve this issue, one possible solution is adding a small number to the diagonal of the feature matrix --> this is called regularization. This will ensure that each columns is linear independant. The regularization value is a hyperparameter of the model (we will need to tune and find the best value for the model).\n"
   ]
  },
  {
   "cell_type": "code",
   "execution_count": 48,
   "id": "60ce41d8-064e-4a3c-aed2-d6a663706eba",
   "metadata": {},
   "outputs": [],
   "source": [
    "def train_linear_regression_reg(X, y, r=0.01):\n",
    "    ones = np.ones(X.shape[0])\n",
    "    X = np.column_stack([ones, X])\n",
    "\n",
    "    XTX = X.T.dot(X)\n",
    "    XTX = XTX + r * np.eye(XTX.shape[0])\n",
    "    \n",
    "    XTX_inv = np.linalg.inv(XTX)\n",
    "    w = XTX_inv.dot(X.T).dot(y)\n",
    "\n",
    "    return w[0], w[1:]"
   ]
  },
  {
   "cell_type": "code",
   "execution_count": 49,
   "id": "93d11329-8784-4793-a5cc-bbb8f9c92206",
   "metadata": {},
   "outputs": [
    {
     "data": {
      "text/plain": [
       "np.float64(0.46076157725498584)"
      ]
     },
     "execution_count": 49,
     "metadata": {},
     "output_type": "execute_result"
    }
   ],
   "source": [
    "X_train = prepare_X(df_train)\n",
    "w0, w = train_linear_regression_reg(X_train, y_train, r=0.01)\n",
    "\n",
    "X_val = prepare_X(df_val)\n",
    "y_pred = w0 + X_val.dot(w)\n",
    "\n",
    "rmse(y_val, y_pred)"
   ]
  },
  {
   "cell_type": "code",
   "execution_count": 50,
   "id": "f5308137-b097-4f89-84e9-b733e4309698",
   "metadata": {},
   "outputs": [
    {
     "data": {
      "text/plain": [
       "<Axes: ylabel='Count'>"
      ]
     },
     "execution_count": 50,
     "metadata": {},
     "output_type": "execute_result"
    },
    {
     "data": {
      "image/png": "[encoded data removed]",
      "text/plain": [
       "<Figure size 640x480 with 1 Axes>"
      ]
     },
     "metadata": {},
     "output_type": "display_data"
    }
   ],
   "source": [
    "sns.histplot(y_val, color='red', alpha=0.5, bins=50)\n",
    "sns.histplot(y_pred, color='blue', alpha=0.5, bins=50)"
   ]
  },
  {
   "cell_type": "markdown",
   "id": "0494c6d5-fad3-43ee-9a2c-b3f1666a906f",
   "metadata": {},
   "source": [
    "We can observe that the RMSE has improved after regularization is applied."
   ]
  },
  {
   "cell_type": "markdown",
   "id": "98eafd22-5cab-48d7-8ee0-ea0c6f684cd4",
   "metadata": {},
   "source": [
    "## 2.11 Model Tuning \n",
    "To get the best out of the machine learning model, we can further fine tune the parameter."
   ]
  },
  {
   "cell_type": "code",
   "execution_count": 51,
   "id": "a80a74dc-5d0e-42dd-94d8-316f825c7f57",
   "metadata": {},
   "outputs": [
    {
     "name": "stdout",
     "output_type": "stream",
     "text": [
      "0.0 5.316272465837904e+16 60.23921547935616\n",
      "1e-05 6.960736285482073 0.46076045018508777\n",
      "0.0001 6.960715015655813 0.460760467544598\n",
      "0.001 6.960547285882775 0.4607605647253587\n",
      "0.1 6.942201936491315 0.46077472091605265\n",
      "1.0 6.786428130070396 0.4611681146776688\n",
      "10 5.817699687084418 0.4746682156371784\n"
     ]
    }
   ],
   "source": [
    "for r in [0.0, 0.00001, 0.0001, 0.001, 0.1, 1.0, 10]:\n",
    "    X_train = prepare_X(df_train)\n",
    "    w0, w = train_linear_regression_reg(X_train, y_train, r=r)\n",
    "    \n",
    "    X_val = prepare_X(df_val)\n",
    "    y_pred = w0 + X_val.dot(w)\n",
    "    score = rmse(y_val, y_pred)\n",
    "\n",
    "    print(r, w0, score)"
   ]
  },
  {
   "cell_type": "markdown",
   "id": "92d925b5-bb5e-4e69-8065-aaf6acdc754f",
   "metadata": {},
   "source": [
    "At r = 0.0001, the model has the best score so we will use the value as the hyperparameter for the model."
   ]
  },
  {
   "cell_type": "code",
   "execution_count": 52,
   "id": "e6682bf9-c086-4897-85af-c2c1e1692c55",
   "metadata": {},
   "outputs": [
    {
     "data": {
      "text/plain": [
       "np.float64(0.460760467544598)"
      ]
     },
     "execution_count": 52,
     "metadata": {},
     "output_type": "execute_result"
    }
   ],
   "source": [
    "r = 0.0001\n",
    "X_train = prepare_X(df_train)\n",
    "w0, w = train_linear_regression_reg(X_train, y_train, r=r)\n",
    "\n",
    "X_val = prepare_X(df_val)\n",
    "y_pred = w0 + X_val.dot(w)\n",
    "score = rmse(y_val, y_pred)\n",
    "score"
   ]
  },
  {
   "cell_type": "markdown",
   "id": "59ac3ee9-e4a5-4b10-ae46-e42d5a4f9a44",
   "metadata": {},
   "source": [
    "## 2.12 Using the model for prediction"
   ]
  },
  {
   "cell_type": "code",
   "execution_count": 56,
   "id": "1e327b61-2127-42df-a1e7-f36912b10bb7",
   "metadata": {},
   "outputs": [],
   "source": [
    "df_train_full = pd.concat([df_train, df_val]).reset_index(drop=True)"
   ]
  },
  {
   "cell_type": "code",
   "execution_count": 58,
   "id": "db87d19a-455e-4619-ab81-bc37294ffca3",
   "metadata": {},
   "outputs": [],
   "source": [
    "X_train_full = prepare_X(df_train_full)"
   ]
  },
  {
   "cell_type": "code",
   "execution_count": 61,
   "id": "767c29fa-1e14-4468-88ca-9117ff5d3674",
   "metadata": {},
   "outputs": [],
   "source": [
    "y_train_full = np.concatenate([y_train, y_val])"
   ]
  },
  {
   "cell_type": "code",
   "execution_count": 62,
   "id": "2d81a158-48d6-44f5-97a3-c7a16caf5650",
   "metadata": {},
   "outputs": [],
   "source": [
    "w0, w = train_linear_regression_reg(X_train_full, y_train_full, r=0.0001)"
   ]
  },
  {
   "cell_type": "code",
   "execution_count": 63,
   "id": "e24f3e0c-bed5-4be0-b7f2-7918332eb178",
   "metadata": {},
   "outputs": [
    {
     "data": {
      "text/plain": [
       "np.float64(0.45954603525358684)"
      ]
     },
     "execution_count": 63,
     "metadata": {},
     "output_type": "execute_result"
    }
   ],
   "source": [
    "X_test = prepare_X(df_test)\n",
    "y_pred = w0 + X_test.dot(w)\n",
    "score = rmse(y_test, y_pred)\n",
    "score"
   ]
  },
  {
   "cell_type": "markdown",
   "id": "268b5dad-9988-4a88-9a2d-4872a499d091",
   "metadata": {},
   "source": [
    "The final model performs similar to the train model with similar RMSE score. This means the model generalized well and does not perform well by chance during the training phase. Let's take an example to see how the model perform."
   ]
  },
  {
   "cell_type": "code",
   "execution_count": 66,
   "id": "7cb97f96-11e6-4887-ba26-278a7c87ae81",
   "metadata": {},
   "outputs": [
    {
     "data": {
      "text/plain": [
       "{'make': 'volkswagen',\n",
       " 'model': 'golf',\n",
       " 'year': 2015,\n",
       " 'engine_fuel_type': 'diesel',\n",
       " 'engine_hp': 150.0,\n",
       " 'engine_cylinders': 4.0,\n",
       " 'transmission_type': 'manual',\n",
       " 'driven_wheels': 'front_wheel_drive',\n",
       " 'number_of_doors': 4.0,\n",
       " 'market_category': 'hatchback,diesel',\n",
       " 'vehicle_size': 'compact',\n",
       " 'vehicle_style': '4dr_hatchback',\n",
       " 'highway_mpg': 45,\n",
       " 'city_mpg': 30,\n",
       " 'popularity': 873}"
      ]
     },
     "execution_count": 66,
     "metadata": {},
     "output_type": "execute_result"
    }
   ],
   "source": [
    "# Select one random car from the test dataframe\n",
    "car = df_test.iloc[106].to_dict()\n",
    "car"
   ]
  },
  {
   "cell_type": "code",
   "execution_count": 71,
   "id": "cb4646c3-c97e-4c19-a4f7-abdc6a6acba2",
   "metadata": {},
   "outputs": [],
   "source": [
    "# Create a new df containing the example car\n",
    "df_small = pd.DataFrame([car])\n",
    "\n",
    "X_small = prepare_X(df_small)\n",
    "y_pred = w0 + X_small.dot(w)\n",
    "y_pred = y_pred[0]"
   ]
  },
  {
   "cell_type": "code",
   "execution_count": 74,
   "id": "b4910a43-9e48-4723-b0ab-dd6703b3acdb",
   "metadata": {},
   "outputs": [
    {
     "data": {
      "text/plain": [
       "31784"
      ]
     },
     "execution_count": 74,
     "metadata": {},
     "output_type": "execute_result"
    }
   ],
   "source": [
    "# The predicted price of the car\n",
    "int(np.expm1(y_pred))"
   ]
  },
  {
   "cell_type": "code",
   "execution_count": 75,
   "id": "62860869-c46b-4176-9ca9-da166702594e",
   "metadata": {},
   "outputs": [
    {
     "data": {
      "text/plain": [
       "28395"
      ]
     },
     "execution_count": 75,
     "metadata": {},
     "output_type": "execute_result"
    }
   ],
   "source": [
    "# The actual price of the car\n",
    "int(np.expm1(y_test[106]))"
   ]
  },
  {
   "cell_type": "markdown",
   "id": "c0abd52c-ffc2-4ee6-89a7-ec51fd9297b2",
   "metadata": {},
   "source": [
    "Predicted car is 31.7k comared to actual price of 28.4k which is 3k off. "
   ]
  },
  {
   "cell_type": "code",
   "execution_count": null,
   "id": "170855de-a2f7-4089-a44b-417dca527fa8",
   "metadata": {},
   "outputs": [],
   "source": []
  },
  {
   "cell_type": "code",
   "execution_count": null,
   "id": "770d21af-6ce8-4e19-a5a4-55746c71ed26",
   "metadata": {},
   "outputs": [],
   "source": []
  },
  {
   "cell_type": "code",
   "execution_count": null,
   "id": "064431e0-e74f-4c4d-8163-b7726c9d8cf5",
   "metadata": {},
   "outputs": [],
   "source": []
  },
  {
   "cell_type": "code",
   "execution_count": null,
   "id": "ec3f93cf-c6d7-436e-a0eb-adc2758956b7",
   "metadata": {},
   "outputs": [],
   "source": []
  }
 ],
 "metadata": {
  "kernelspec": {
   "display_name": "Python 3 (ipykernel)",
   "language": "python",
   "name": "python3"
  },
  "language_info": {
   "codemirror_mode": {
    "name": "ipython",
    "version": 3
   },
   "file_extension": ".py",
   "mimetype": "text/x-python",
   "name": "python",
   "nbconvert_exporter": "python",
   "pygments_lexer": "ipython3",
   "version": "3.12.1"
  }
 },
 "nbformat": 4,
 "nbformat_minor": 5
}
